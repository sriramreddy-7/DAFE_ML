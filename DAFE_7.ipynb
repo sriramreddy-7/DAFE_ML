{
  "nbformat": 4,
  "nbformat_minor": 0,
  "metadata": {
    "colab": {
      "provenance": [],
      "include_colab_link": true
    },
    "kernelspec": {
      "name": "python3",
      "display_name": "Python 3"
    },
    "language_info": {
      "name": "python"
    }
  },
  "cells": [
    {
      "cell_type": "markdown",
      "metadata": {
        "id": "view-in-github",
        "colab_type": "text"
      },
      "source": [
        "<a href=\"https://colab.research.google.com/github/sriramreddy-7/DAFE_ML/blob/main/DAFE_7.ipynb\" target=\"_parent\"><img src=\"https://colab.research.google.com/assets/colab-badge.svg\" alt=\"Open In Colab\"/></a>"
      ]
    },
    {
      "cell_type": "code",
      "execution_count": 4,
      "metadata": {
        "colab": {
          "base_uri": "https://localhost:8080/"
        },
        "id": "ZmJxr_YHuFNO",
        "outputId": "ce6a3f0c-9336-4692-af03-fefd72dd292b"
      },
      "outputs": [
        {
          "output_type": "stream",
          "name": "stdout",
          "text": [
            "         instagram_name  Subscribers_count  Likes_avg  Comments_avg.  \\\n",
            "0                   433           50700000     274900         456700   \n",
            "1         ____kimwoobin            3600000     449400         592700   \n",
            "2          __youngbae__           13400000     269600         304100   \n",
            "3           _agentgirl_           18600000     164400         189400   \n",
            "4         _hakkencoser_            3500000     525100         643000   \n",
            "..                  ...                ...        ...            ...   \n",
            "988              zidane           33000000     412400         560800   \n",
            "989              zidane           33000000     412400         560800   \n",
            "990              zkdlin           14100000    1400000        1700000   \n",
            "991                  zo           14000000     145800         262000   \n",
            "992  zoeisabellakravitz            8500000     342400         519299   \n",
            "\n",
            "           Country   Eng_avg      revenue  \n",
            "0            Spain  0.014430   8910888.00  \n",
            "1        Indonesia  0.289472   1563150.00  \n",
            "2        Indonesia  0.042813    860550.00  \n",
            "3           Russia  0.019022     88450.00  \n",
            "4    United States  0.333743   7826270.00  \n",
            "..             ...       ...          ...  \n",
            "988    South Korea  0.029491   7882920.00  \n",
            "989    South Korea  0.029491   7882920.00  \n",
            "990    South Korea  0.219858  25110000.00  \n",
            "991      Indonesia  0.029129    611700.00  \n",
            "992       Thailand  0.101376   3972432.39  \n",
            "\n",
            "[993 rows x 7 columns]\n",
            "0      0.014430\n",
            "1      0.289472\n",
            "2      0.042813\n",
            "3      0.019022\n",
            "4      0.333743\n",
            "         ...   \n",
            "988    0.029491\n",
            "989    0.029491\n",
            "990    0.219858\n",
            "991    0.029129\n",
            "992    0.101376\n",
            "Name: Eng_avg, Length: 993, dtype: float64\n",
            "['Spain' 'Indonesia' 'Russia' 'United States' 'Brazil' 'Poland'\n",
            " 'South Korea' 'India' 'Morocco' 'Turkey' 'Egypt' 'Chile' 'Iran' 'Italy'\n",
            " 'Mexico' 'Colombia' 'Argentina' 'Japan' 'Iraq' 'United Kingdom'\n",
            " 'Philippines' 'Germany' 'Nigeria' 'Serbia' 'Albania'\n",
            " 'United Arab Emirates' 'China' 'France' 'Kazakhstan' 'Thailand' 'Syria'\n",
            " 'Algeria' 'Pakistan']\n",
            "         instagram_name  Subscribers_count  Likes_avg  Comments_avg.  \\\n",
            "0                   433           50700000     274900         456700   \n",
            "1         ____kimwoobin            3600000     449400         592700   \n",
            "2          __youngbae__           13400000     269600         304100   \n",
            "3           _agentgirl_           18600000     164400         189400   \n",
            "4         _hakkencoser_            3500000     525100         643000   \n",
            "..                  ...                ...        ...            ...   \n",
            "988              zidane           33000000     412400         560800   \n",
            "989              zidane           33000000     412400         560800   \n",
            "990              zkdlin           14100000    1400000        1700000   \n",
            "991                  zo           14000000     145800         262000   \n",
            "992  zoeisabellakravitz            8500000     342400         519299   \n",
            "\n",
            "           Country   Eng_avg      revenue  \n",
            "0            Spain  0.014430   8910888.00  \n",
            "1        Indonesia  0.289472   1563150.00  \n",
            "2        Indonesia  0.042813    860550.00  \n",
            "3           Russia  0.019022     88450.00  \n",
            "4    United States  0.333743   7826270.00  \n",
            "..             ...       ...          ...  \n",
            "988    South Korea  0.029491   7882920.00  \n",
            "989    South Korea  0.029491   7882920.00  \n",
            "990    South Korea  0.219858  25110000.00  \n",
            "991      Indonesia  0.029129    611700.00  \n",
            "992       Thailand  0.101376   3972432.39  \n",
            "\n",
            "[993 rows x 7 columns]\n",
            "Mean Squared Error: 75478974000566.81\n",
            "R-squared: 0.62\n",
            "0.6223666930796039\n",
            "Mean Squared Error: 197839158153500.22\n",
            "R-squared: 0.01\n",
            "Accuracy (R-squared): 0.62\n"
          ]
        }
      ],
      "source": [
        "import pandas as pd\n",
        "df = pd.read_csv('/content/newdata.csv')\n",
        "print(df)\n",
        "\n",
        "df['Eng_avg']=(df['Likes_avg']+df['Comments_avg.'])/df['Subscribers_count']\n",
        "print(df['Eng_avg'])\n",
        "\n",
        "condition=(df['Country'] !='11.8M')\n",
        "df=df[condition]\n",
        "condition=(df['Country'] !='4.8M')\n",
        "df=df[condition]\n",
        "condition=(df['Country'] !='4.9M')\n",
        "df=df[condition]\n",
        "print(df['Country'].unique())\n",
        "\n",
        "condition1= df['Country']=='Spain'\n",
        "condition2= df['Country']=='Indonesia'\n",
        "condition3= df['Country']=='Russia'\n",
        "condition4= df['Country']=='United States'\n",
        "condition5= df['Country']=='Brazil'\n",
        "condition6= df['Country']=='Poland'\n",
        "condition7= df['Country']=='South Korea'\n",
        "condition8= df['Country']=='India'\n",
        "condition9= df['Country']=='Morocco'\n",
        "condition10= df['Country']=='Turkey'\n",
        "condition11= df['Country']=='Egypt'\n",
        "condition12= df['Country']=='Chile'\n",
        "condition13= df['Country']=='Iran'\n",
        "condition14= df['Country']=='Italy'\n",
        "condition15= df['Country']=='Philippines'\n",
        "condition16= df['Country']=='Germany'\n",
        "condition17= df['Country']=='Nigeria'\n",
        "condition18= df['Country']=='Serbia'\n",
        "condition19= df['Country']=='Albania'\n",
        "condition20= df['Country']=='United Arab Emirates'\n",
        "condition21= df['Country']=='China'\n",
        "condition22= df['Country']=='France'\n",
        "condition23= df['Country']=='Kazakhstan'\n",
        "condition24= df['Country']=='Thailand'\n",
        "condition25= df['Country']=='Syria'\n",
        "condition26= df['Country']=='Algeria'\n",
        "condition27= df['Country']=='Pakistan'\n",
        "\n",
        "df.loc[condition1, 'revenue']=(df['Subscribers_count']*df['Eng_avg'])*(12.18)\n",
        "df.loc[condition2, 'revenue']=(df['Subscribers_count']*df['Eng_avg'])*(1.5)\n",
        "df.loc[condition3, 'revenue']=(df['Subscribers_count']*df['Eng_avg'])*(0.25)\n",
        "df.loc[condition4, 'revenue']=(df['Subscribers_count']*df['Eng_avg'])*(6.7)\n",
        "df.loc[condition5, 'revenue']=(df['Subscribers_count']*df['Eng_avg'])*(0.52)\n",
        "df.loc[condition6, 'revenue']=(df['Subscribers_count']*df['Eng_avg'])*(7.07)\n",
        "df.loc[condition7, 'revenue']=(df['Subscribers_count']*df['Eng_avg'])*(8.1)\n",
        "df.loc[condition8, 'revenue']=(df['Subscribers_count']*df['Eng_avg'])*(0.64)\n",
        "df.loc[condition9, 'revenue']=(df['Subscribers_count']*df['Eng_avg'])*(4.00)\n",
        "df.loc[condition10, 'revenue']=(df['Subscribers_count']*df['Eng_avg'])*(0.89)\n",
        "df.loc[condition11, 'revenue']=(df['Subscribers_count']*df['Eng_avg'])*(0.7)\n",
        "df.loc[condition12, 'revenue']=(df['Subscribers_count']*df['Eng_avg'])*(0.92)\n",
        "df.loc[condition13, 'revenue']=(df['Subscribers_count']*df['Eng_avg'])*(0.5)\n",
        "df.loc[condition14, 'revenue']=(df['Subscribers_count']*df['Eng_avg'])*(2.509)\n",
        "df.loc[condition15, 'revenue']=(df['Subscribers_count']*df['Eng_avg'])*(2.62)\n",
        "df.loc[condition16, 'revenue']=(df['Subscribers_count']*df['Eng_avg'])*(3.00)\n",
        "df.loc[condition17, 'revenue']=(df['Subscribers_count']*df['Eng_avg'])*(0.38)\n",
        "df.loc[condition18, 'revenue']=(df['Subscribers_count']*df['Eng_avg'])*(2.64)\n",
        "df.loc[condition19, 'revenue']=(df['Subscribers_count']*df['Eng_avg'])*(1.59)\n",
        "df.loc[condition20, 'revenue']=(df['Subscribers_count']*df['Eng_avg'])*(6.53)\n",
        "df.loc[condition21, 'revenue']=(df['Subscribers_count']*df['Eng_avg'])*(1.5)\n",
        "df.loc[condition22, 'revenue']=(df['Subscribers_count']*df['Eng_avg'])*(2.5)\n",
        "df.loc[condition23, 'revenue']=(df['Subscribers_count']*df['Eng_avg'])*(0.73)\n",
        "df.loc[condition24, 'revenue']=(df['Subscribers_count']*df['Eng_avg'])*(4.61)\n",
        "df.loc[condition25, 'revenue']=(df['Subscribers_count']*df['Eng_avg'])*(0.5)\n",
        "df.loc[condition26, 'revenue']=(df['Subscribers_count']*df['Eng_avg'])*(0.7)\n",
        "df.loc[condition27, 'revenue']=(df['Subscribers_count']*df['Eng_avg'])*(0.2)\n",
        "\n",
        "print(df)\n",
        "\n",
        "data=df\n",
        "\n",
        "\n",
        "\n",
        "import pandas as pd\n",
        "from sklearn.model_selection import train_test_split\n",
        "from sklearn.linear_model import LinearRegression\n",
        "from sklearn.metrics import mean_squared_error, r2_score\n",
        "from sklearn.preprocessing import LabelEncoder, OneHotEncoder\n",
        "import numpy as np\n",
        "\n",
        "data.dropna()\n",
        "\n",
        "data.dropna(subset=['revenue'], inplace=True)\n",
        "X = data[['Subscribers_count', 'Likes_avg', 'Comments_avg.', 'Eng_avg']]\n",
        "y = data['revenue']\n",
        "\n",
        "X_train, X_test, y_train, y_test = train_test_split(X, y, test_size=0.2, random_state=42)\n",
        "model = LinearRegression()\n",
        "model.fit(X_train, y_train)\n",
        "y_pred = model.predict(X_test)\n",
        "mse = mean_squared_error(y_test, y_pred)\n",
        "r2 = r2_score(y_test, y_pred)\n",
        "\n",
        "print(f\"Mean Squared Error: {mse:.2f}\")\n",
        "print(f\"R-squared: {r2:.2f}\")\n",
        "\n",
        "accuracy = model.score(X_test, y_test)\n",
        "print(accuracy)\n",
        "\n",
        "from sklearn.svm import SVR\n",
        "\n",
        "from sklearn.tree import DecisionTreeRegressor\n",
        "\n",
        "model_DTR = DecisionTreeRegressor(random_state=42)\n",
        "model_DTR.fit(X_train, y_train)\n",
        "y_pred = model_DTR.predict(X_test)\n",
        "\n",
        "mse_DTR = mean_squared_error(y_test, y_pred)\n",
        "r2_DTR = r2_score(y_test, y_pred)\n",
        "\n",
        "print(f\"Mean Squared Error: {mse_DTR:.2f}\")\n",
        "print(f\"R-squared: {r2_DTR:.2f}\")\n",
        "\n",
        "accuracy_DTR = r2\n",
        "print(f\"Accuracy (R-squared): {accuracy_DTR:.2f}\")\n",
        "\n",
        "summary_stats = df.describe()"
      ]
    },
    {
      "cell_type": "code",
      "source": [
        "from sklearn.linear_model import Lasso"
      ],
      "metadata": {
        "id": "xm5jdCVkulEV"
      },
      "execution_count": 1,
      "outputs": []
    },
    {
      "cell_type": "code",
      "source": [
        "from sklearn.linear_model import Ridge"
      ],
      "metadata": {
        "id": "RsGDKCpbvddD"
      },
      "execution_count": 2,
      "outputs": []
    },
    {
      "cell_type": "code",
      "source": [
        "lasso_model = Lasso(alpha=1.0)\n",
        "\n",
        "lasso_model.fit(X_train, y_train)\n",
        "\n",
        "y_pred_lasso = lasso_model.predict(X_test)\n",
        "\n",
        "\n",
        "mse_lasso = mean_squared_error(y_test, y_pred_lasso)\n",
        "r2_lasso = r2_score(y_test, y_pred_lasso)\n",
        "\n",
        "print(\"Lasso Regression Results:\")\n",
        "print(f\"Mean Squared Error: {mse_lasso:.2f}\")\n",
        "print(f\"R-squared: {r2_lasso:.2f}\")"
      ],
      "metadata": {
        "colab": {
          "base_uri": "https://localhost:8080/"
        },
        "id": "5qpU4VXCyOf1",
        "outputId": "fb7b0539-5b12-44d4-d234-d368c457746f"
      },
      "execution_count": 5,
      "outputs": [
        {
          "output_type": "stream",
          "name": "stdout",
          "text": [
            "Lasso Regression Results:\n",
            "Mean Squared Error: 75478972017761.22\n",
            "R-squared: 0.62\n"
          ]
        }
      ]
    },
    {
      "cell_type": "code",
      "source": [
        "ridge_model = Ridge(alpha=1.0)\n",
        "ridge_model.fit(X_train, y_train)\n",
        "y_pred_ridge = ridge_model.predict(X_test)\n",
        "mse_ridge = mean_squared_error(y_test, y_pred_ridge)\n",
        "r2_ridge = r2_score(y_test, y_pred_ridge)\n",
        "\n",
        "print(\"Ridge Regression Results:\")\n",
        "print(f\"Mean Squared Error: {mse_ridge:.2f}\")\n",
        "print(f\"R-squared: {r2_ridge:.2f}\")"
      ],
      "metadata": {
        "colab": {
          "base_uri": "https://localhost:8080/"
        },
        "id": "2ScA4wIMyRZF",
        "outputId": "6ba6da9b-c9be-4492-a517-4b670b59ce4a"
      },
      "execution_count": 6,
      "outputs": [
        {
          "output_type": "stream",
          "name": "stdout",
          "text": [
            "Ridge Regression Results:\n",
            "Mean Squared Error: 75474626063926.80\n",
            "R-squared: 0.62\n"
          ]
        },
        {
          "output_type": "stream",
          "name": "stderr",
          "text": [
            "/usr/local/lib/python3.10/dist-packages/sklearn/linear_model/_ridge.py:216: LinAlgWarning: Ill-conditioned matrix (rcond=4.95103e-18): result may not be accurate.\n",
            "  return linalg.solve(A, Xy, assume_a=\"pos\", overwrite_a=True).T\n"
          ]
        }
      ]
    }
  ]
}